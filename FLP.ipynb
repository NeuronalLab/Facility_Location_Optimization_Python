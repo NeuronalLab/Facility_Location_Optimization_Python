{
 "cells": [
  {
   "cell_type": "code",
   "execution_count": 1,
   "metadata": {},
   "outputs": [],
   "source": [
    "from pyscipopt import Model, quicksum, multidict"
   ]
  },
  {
   "cell_type": "code",
   "execution_count": 2,
   "metadata": {},
   "outputs": [],
   "source": [
    "def FLP(I, J, d, M, f, C):\n",
    "    model=Model(\"FLP\")\n",
    "    x,y={}, {}\n",
    "    for j in J:\n",
    "        y[j]=model.addVar(vtype=\"B\")\n",
    "        for i in I:\n",
    "            x[i,j]=model.addVar(vtype=\"C\")\n",
    "            \n",
    "    for i in I :\n",
    "        model.addCons(quicksum(x[i,j]for j in J)==d[i])\n",
    "        \n",
    "    for j in M :\n",
    "        model.addCons(quicksum(x[i,j] for i in I)<= M[j]*y[j])\n",
    "    \n",
    "    for (i,j) in x :\n",
    "        model.addCons( x [i,j] <= d[i]*y[j])\n",
    "        \n",
    "    model.setObjective(quicksum(f[j]*y[j]for j in J) + quicksum(C[i,j]*x[i,j] for i in I for j in J), \"minimize\")\n",
    "    model.data = x,y\n",
    "    return model\n",
    "        \n",
    "   \n"
   ]
  },
  {
   "cell_type": "code",
   "execution_count": 4,
   "metadata": {},
   "outputs": [],
   "source": [
    " #Demand by each customer \n",
    " I, d = multidict({1:3, 2:5, 3:1, 4:8, 5:4})\n",
    " \n",
    " # fixed cost and maximum capacity of each facillity \n",
    " J, M, f = multidict({1:[12,250000], 2:[11,200000], 3:[10,280000], 4:[14,220000]})\n",
    " \n",
    " #Transportation cost between facilities and customers \n",
    " C = {(1,1):300,  (1,2):700,  (1,3):200, (1,4):300,\n",
    "      (2,1):200,  (2,2):300,  (2,3):400, (2,4):300,\n",
    "      (3,1):400,  (3,2):500,  (3,3):100, (3,4):400,\n",
    "      (4,1):200,  (4,2):400,  (4,3):600, (4,4):600,\n",
    "      (5,1):400, (5,2):500,  (5,3):300, (5,4):400,}"
   ]
  },
  {
   "cell_type": "code",
   "execution_count": 5,
   "metadata": {},
   "outputs": [],
   "source": [
    "model=FLP(I, J, d, M, f, C)\n",
    "model.optimize()\n",
    "x,y = model.data \n",
    "\n",
    "edges = [ (i,j) for (i,j) in x if model.getVal(x[i,j]) > 0.0001]\n",
    "facilities= [ j for j in y if model.getVal(y[j])> 0.0001]\n",
    "quantities = { (i,j) : model.getVal(x[i,j]) for (i,j) in x }"
   ]
  },
  {
   "cell_type": "code",
   "execution_count": 6,
   "metadata": {},
   "outputs": [
    {
     "name": "stdout",
     "output_type": "stream",
     "text": [
      "Optimal Cost 427600.00000000006\n",
      "Facilites to open [2, 4]\n",
      "Quantity from Facility 2 to Customer 4: 8.00 Ton\n",
      "Quantity from Facility 4 to Customer 1: 3.00 Ton\n",
      "Quantity from Facility 4 to Customer 2: 5.00 Ton\n",
      "Quantity from Facility 4 to Customer 3: 1.00 Ton\n",
      "Quantity from Facility 4 to Customer 5: 4.00 Ton\n"
     ]
    }
   ],
   "source": [
    "print(\"Optimal Cost\", model.getObjVal())\n",
    "print(\"Facilites to open\", facilities)\n",
    "\n",
    "for (i, j), quantity in quantities.items():\n",
    "    if quantity > 0.0001:\n",
    "        print(f\"Quantity from Facility {j} to Customer {i}: {quantity:.2f} Ton\")"
   ]
  }
 ],
 "metadata": {
  "kernelspec": {
   "display_name": "Python 3",
   "language": "python",
   "name": "python3"
  },
  "language_info": {
   "codemirror_mode": {
    "name": "ipython",
    "version": 3
   },
   "file_extension": ".py",
   "mimetype": "text/x-python",
   "name": "python",
   "nbconvert_exporter": "python",
   "pygments_lexer": "ipython3",
   "version": "3.12.1"
  }
 },
 "nbformat": 4,
 "nbformat_minor": 2
}
